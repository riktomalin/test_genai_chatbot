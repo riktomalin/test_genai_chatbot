{
 "cells": [
  {
   "cell_type": "code",
   "execution_count": 7,
   "id": "fe42b184-1e72-48d4-8485-e2065c8277da",
   "metadata": {},
   "outputs": [
    {
     "name": "stderr",
     "output_type": "stream",
     "text": [
      "[nltk_data] Downloading package punkt to /home/ec2-user/nltk_data...\n",
      "[nltk_data]   Unzipping tokenizers/punkt.zip.\n"
     ]
    },
    {
     "data": {
      "text/plain": [
       "True"
      ]
     },
     "execution_count": 7,
     "metadata": {},
     "output_type": "execute_result"
    }
   ],
   "source": [
    "import nltk\n",
    "from nltk.tokenize import word_tokenize\n",
    "from tensorflow.keras.preprocessing.text import Tokenizer\n",
    "from tensorflow.keras.preprocessing.sequence import pad_sequences\n",
    "\n",
    "nltk.download('punkt')"
   ]
  },
  {
   "cell_type": "code",
   "execution_count": 20,
   "id": "b91ebee4-f3ac-4325-bfe3-830839e373c0",
   "metadata": {},
   "outputs": [],
   "source": [
    "lines = [\n",
    "    \"Hello|Hi there!\",\n",
    "    \"How are you?|I'm doing well, thank you. How about you?\",\n",
    "    \"What's your name?|I'm ChatBot, nice to meet you!\",\n",
    "    \"Goodbye|Farewell! Have a great day!\"\n",
    "]\n",
    "\n",
    "questions = [line.split('|')[0].strip() for line in lines]\n",
    "answers = [line.split('|')[1].strip() for line in lines]"
   ]
  },
  {
   "cell_type": "code",
   "execution_count": 22,
   "id": "36516788-1595-47bf-a0f3-5a90ec416fb7",
   "metadata": {},
   "outputs": [],
   "source": [
    "tokenizer = Tokenizer()\n",
    "tokenizer.fit_on_texts(questions + answers)"
   ]
  },
  {
   "cell_type": "code",
   "execution_count": 27,
   "id": "b16b42e3-88d7-4576-80af-9e7f373abc1f",
   "metadata": {},
   "outputs": [],
   "source": [
    "vocab_size = len(tokenizer.word_index) + 1\n",
    "\n",
    "question_sequences = tokenizer.texts_to_sequences(questions)\n",
    "answer_sequences = tokenizer.texts_to_sequences(answers)\n",
    "\n",
    "max_sequence_length = max(max(len(seq) for seq in question_sequences),\n",
    "                          max(len(seq) for seq in answer_sequences))\n",
    "\n",
    "padded_questions = pad_sequences(question_sequences, maxlen=max_sequence_length, padding=\"pre\")\n",
    "padded_answers = pad_sequences(answer_sequences, maxlen=max_sequence_length, padding=\"pre\")"
   ]
  },
  {
   "cell_type": "code",
   "execution_count": 28,
   "id": "a803ccf8-7648-41e7-86aa-c50a1c98cf33",
   "metadata": {},
   "outputs": [],
   "source": [
    "from tensorflow.keras.models import Model\n",
    "from tensorflow.keras.layers import Input, LSTM, Dense"
   ]
  },
  {
   "cell_type": "code",
   "execution_count": 30,
   "id": "828922df-d485-402f-80db-c57175f371ac",
   "metadata": {},
   "outputs": [
    {
     "name": "stderr",
     "output_type": "stream",
     "text": [
      "2025-03-23 10:48:16.549974: E external/local_xla/xla/stream_executor/cuda/cuda_driver.cc:282] failed call to cuInit: CUDA_ERROR_NO_DEVICE: no CUDA-capable device is detected\n"
     ]
    }
   ],
   "source": [
    "encoder_inputs = Input(shape=(max_sequence_length,))\n",
    "encoder_embedding = Dense(vocab_size, activation=\"relu\")(encoder_inputs)"
   ]
  },
  {
   "cell_type": "code",
   "execution_count": 37,
   "id": "e2c915b5-1f6f-4497-9c34-e766afb4644d",
   "metadata": {},
   "outputs": [
    {
     "name": "stdout",
     "output_type": "stream",
     "text": [
      "/usr/local/cuda-12.3/bin:/home/ec2-user/anaconda3/envs/tensorflow2_p310/bin:/home/ec2-user/anaconda3/condabin:/home/ec2-user/anaconda3/bin:/opt/amazon/openmpi/bin:/opt/amazon/efa/bin:/home/ec2-user/.dl_binaries/bin:/usr/local/cuda-12.1/bin:/usr/local/cuda-12.1/include:/usr/libexec/gcc/x86_64-redhat-linux/7:/opt/aws/bin:/usr/local/bin:/usr/bin:/usr/local/sbin:/usr/sbin\n"
     ]
    },
    {
     "data": {
      "text/plain": [
       "[name: \"/device:CPU:0\"\n",
       " device_type: \"CPU\"\n",
       " memory_limit: 268435456\n",
       " locality {\n",
       " }\n",
       " incarnation: 13840883353384096865\n",
       " xla_global_id: -1]"
      ]
     },
     "execution_count": 37,
     "metadata": {},
     "output_type": "execute_result"
    }
   ],
   "source": [
    "import tensorflow\n",
    "from tensorflow.python.client import device_lib\n",
    "device_lib.list_local_devices()"
   ]
  },
  {
   "cell_type": "code",
   "execution_count": null,
   "id": "828141e2-e4d7-4b28-9ff7-fc9f21084d97",
   "metadata": {},
   "outputs": [],
   "source": []
  }
 ],
 "metadata": {
  "kernelspec": {
   "display_name": "conda_tensorflow2_p310",
   "language": "python",
   "name": "conda_tensorflow2_p310"
  },
  "language_info": {
   "codemirror_mode": {
    "name": "ipython",
    "version": 3
   },
   "file_extension": ".py",
   "mimetype": "text/x-python",
   "name": "python",
   "nbconvert_exporter": "python",
   "pygments_lexer": "ipython3",
   "version": "3.10.16"
  }
 },
 "nbformat": 4,
 "nbformat_minor": 5
}
